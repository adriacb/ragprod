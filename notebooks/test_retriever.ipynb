{
 "cells": [
  {
   "cell_type": "code",
   "execution_count": null,
   "id": "23f973f2",
   "metadata": {},
   "outputs": [],
   "source": [
    "import asyncio\n",
    "from fastmcp import Client\n",
    "\n",
    "client = Client(\"http://localhost:8000/mcp\")\n",
    "\n",
    "async def call_tool(name: str):\n",
    "    async with client:\n",
    "        result = await client.call_tool(\n",
    "            \"greet\", {\"name\": name}\n",
    "            )\n",
    "        print(result)\n",
    "\n",
    "asyncio.run(call_tool(\"rag_retrieve\"))"
   ]
  }
 ],
 "metadata": {
  "kernelspec": {
   "display_name": ".venv",
   "language": "python",
   "name": "python3"
  },
  "language_info": {
   "name": "python",
   "version": "3.12.9"
  }
 },
 "nbformat": 4,
 "nbformat_minor": 5
}
