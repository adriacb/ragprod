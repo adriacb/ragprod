{
 "cells": [
  {
   "cell_type": "code",
   "execution_count": null,
   "id": "23f973f2",
   "metadata": {},
   "outputs": [],
   "source": [
    "from fastmcp import Client"
   ]
  },
  {
   "cell_type": "markdown",
   "id": "f45a82fc",
   "metadata": {},
   "source": [
    " ```bash\n",
    " uv run fastmcp run .\\src\\ragprod\\presentation\\mcp\\run.py --transport sse --host 0.0.0.0 --port 8000\n",
    " ```"
   ]
  },
  {
   "cell_type": "code",
   "execution_count": 48,
   "id": "6ebcaf07",
   "metadata": {},
   "outputs": [
    {
     "name": "stderr",
     "output_type": "stream",
     "text": [
      "2025-10-09 22:38:00,783 - httpx - INFO - HTTP Request: GET http://localhost:8000/sse \"HTTP/1.1 200 OK\"\n",
      "2025-10-09 22:38:01,051 - httpx - INFO - HTTP Request: POST http://localhost:8000/messages/?session_id=aabdd02b08a944809fd1de98bd254dfa \"HTTP/1.1 202 Accepted\"\n",
      "2025-10-09 22:38:01,061 - httpx - INFO - HTTP Request: POST http://localhost:8000/messages/?session_id=aabdd02b08a944809fd1de98bd254dfa \"HTTP/1.1 202 Accepted\"\n",
      "2025-10-09 22:38:01,072 - httpx - INFO - HTTP Request: POST http://localhost:8000/messages/?session_id=aabdd02b08a944809fd1de98bd254dfa \"HTTP/1.1 202 Accepted\"\n",
      "2025-10-09 22:38:01,082 - httpx - INFO - HTTP Request: POST http://localhost:8000/messages/?session_id=aabdd02b08a944809fd1de98bd254dfa \"HTTP/1.1 202 Accepted\"\n"
     ]
    },
    {
     "name": "stdout",
     "output_type": "stream",
     "text": [
      "[Tool(name='rag_retrieve', title=None, description=None, inputSchema={'properties': {'query': {'title': 'Query', 'type': 'string'}, 'limit': {'default': 5, 'title': 'Limit', 'type': 'integer'}}, 'required': ['query'], 'type': 'object'}, outputSchema=None, annotations=None, meta={'_fastmcp': {'tags': []}})]\n"
     ]
    },
    {
     "name": "stderr",
     "output_type": "stream",
     "text": [
      "2025-10-09 22:38:01,374 - __main__ - INFO - Retrieved 5 documents\n"
     ]
    },
    {
     "name": "stdout",
     "output_type": "stream",
     "text": [
      "Result from server:\n",
      "CallToolResult(content=[TextContent(type='text', text='[{\"id\":\"a8471e83-1a84-493b-8c38-4e2faef3102d\",\"raw_text\":\"Machine learning is fun\",\"source\":\"Unknown\",\"title\":\"Untitled\"},{\"id\":\"f261af00-44fc-475c-9a5b-960355fbe2b0\",\"raw_text\":\"Machine learning is fun\",\"source\":\"Unknown\",\"title\":\"Untitled\"},{\"id\":\"be9e64fa-a262-4226-a0f0-50bde9732313\",\"raw_text\":\"Deep learning uses neural networks\",\"source\":\"Unknown\",\"title\":\"Untitled\"},{\"id\":\"fccef543-3f5a-4934-9652-6b7951126614\",\"raw_text\":\"Deep learning uses neural networks\",\"source\":\"Unknown\",\"title\":\"Untitled\"},{\"id\":\"8fe2be72-0431-4ab8-8aa4-e8042dd0c24b\",\"raw_text\":\"AI is the future\",\"source\":\"Unknown\",\"title\":\"Untitled\"}]', annotations=None, meta=None)], structured_content=None, data=None, is_error=False)\n"
     ]
    }
   ],
   "source": [
    "from fastmcp.client.logging import LogMessage\n",
    "import logging\n",
    "\n",
    "# In a real app, you might configure this in your main entry point\n",
    "logging.basicConfig(\n",
    "    level=logging.INFO,\n",
    "    format='%(asctime)s - %(name)s - %(levelname)s - %(message)s'\n",
    ")\n",
    "\n",
    "# Get a logger for the module where the client is used\n",
    "logger = logging.getLogger(__name__)\n",
    "\n",
    "# This mapping is useful for converting MCP level strings to Python's levels\n",
    "LOGGING_LEVEL_MAP = logging.getLevelNamesMapping()\n",
    "\n",
    "async def log_handler(message: LogMessage):\n",
    "    \"\"\"\n",
    "    Handles incoming logs from the MCP server and forwards them\n",
    "    to the standard Python logging system.\n",
    "    \"\"\"\n",
    "    msg = message.data.get('msg')\n",
    "    extra = message.data.get('extra')\n",
    "\n",
    "    # Convert the MCP log level to a Python log level\n",
    "    level = LOGGING_LEVEL_MAP.get(message.level.upper(), logging.INFO)\n",
    "\n",
    "    # Log the message using the standard logging library\n",
    "    logger.log(level, msg, extra=extra)\n",
    "\n",
    "async with Client(transport=\"http://localhost:8000/sse\", log_handler=log_handler) as client:\n",
    "    tools = await client.list_tools()\n",
    "    print(tools)\n",
    "\n",
    "    # Call the tool with arguments\n",
    "    result = await client.call_tool(\"rag_retrieve\", {\n",
    "        \"query\": \"Machine learning\",\n",
    "        \"limit\": 5\n",
    "    })\n",
    "\n",
    "    print(\"Result from server:\")\n",
    "    print(result)"
   ]
  },
  {
   "cell_type": "code",
   "execution_count": 46,
   "id": "546fbde9",
   "metadata": {},
   "outputs": [
    {
     "data": {
      "text/plain": [
       "False"
      ]
     },
     "execution_count": 46,
     "metadata": {},
     "output_type": "execute_result"
    }
   ],
   "source": [
    "result.is_error # content, data, is_error, structured_content"
   ]
  },
  {
   "cell_type": "code",
   "execution_count": 44,
   "id": "d1b8fff3",
   "metadata": {},
   "outputs": [
    {
     "name": "stdout",
     "output_type": "stream",
     "text": [
      "type='text' text='[{\"id\":\"a8471e83-1a84-493b-8c38-4e2faef3102d\",\"raw_text\":\"Machine learning is fun\",\"source\":\"Unknown\",\"title\":\"Untitled\"},{\"id\":\"f261af00-44fc-475c-9a5b-960355fbe2b0\",\"raw_text\":\"Machine learning is fun\",\"source\":\"Unknown\",\"title\":\"Untitled\"},{\"id\":\"be9e64fa-a262-4226-a0f0-50bde9732313\",\"raw_text\":\"Deep learning uses neural networks\",\"source\":\"Unknown\",\"title\":\"Untitled\"},{\"id\":\"fccef543-3f5a-4934-9652-6b7951126614\",\"raw_text\":\"Deep learning uses neural networks\",\"source\":\"Unknown\",\"title\":\"Untitled\"},{\"id\":\"8fe2be72-0431-4ab8-8aa4-e8042dd0c24b\",\"raw_text\":\"AI is the future\",\"source\":\"Unknown\",\"title\":\"Untitled\"}]' annotations=None meta=None\n"
     ]
    }
   ],
   "source": [
    "for x in result.content:\n",
    "    print(x)"
   ]
  },
  {
   "cell_type": "code",
   "execution_count": null,
   "id": "594d2964",
   "metadata": {},
   "outputs": [],
   "source": []
  }
 ],
 "metadata": {
  "kernelspec": {
   "display_name": ".venv",
   "language": "python",
   "name": "python3"
  },
  "language_info": {
   "codemirror_mode": {
    "name": "ipython",
    "version": 3
   },
   "file_extension": ".py",
   "mimetype": "text/x-python",
   "name": "python",
   "nbconvert_exporter": "python",
   "pygments_lexer": "ipython3",
   "version": "3.12.11"
  }
 },
 "nbformat": 4,
 "nbformat_minor": 5
}
